{
 "cells": [
  {
   "cell_type": "code",
   "execution_count": 1,
   "metadata": {},
   "outputs": [],
   "source": [
    "%matplotlib notebook"
   ]
  },
  {
   "cell_type": "code",
   "execution_count": 2,
   "metadata": {},
   "outputs": [],
   "source": [
    "# import dependancies \n",
    "import pandas as pd\n",
    "import re\n",
    "import tweepy\n",
    "from sklearn.feature_extraction.text import CountVectorizer\n",
    "from sklearn.pipeline import Pipeline\n",
    "from sklearn.feature_extraction.text import CountVectorizer\n",
    "from sklearn.feature_extraction.text import TfidfTransformer\n",
    "from sklearn import svm\n",
    "from joblib import dump, load\n",
    "#load the best model which is the SVM model\n",
    "predictor = load('../model/svm.joblib') "
   ]
  },
  {
   "cell_type": "code",
   "execution_count": 3,
   "metadata": {},
   "outputs": [
    {
     "data": {
      "text/html": [
       "<div>\n",
       "<style scoped>\n",
       "    .dataframe tbody tr th:only-of-type {\n",
       "        vertical-align: middle;\n",
       "    }\n",
       "\n",
       "    .dataframe tbody tr th {\n",
       "        vertical-align: top;\n",
       "    }\n",
       "\n",
       "    .dataframe thead th {\n",
       "        text-align: right;\n",
       "    }\n",
       "</style>\n",
       "<table border=\"1\" class=\"dataframe\">\n",
       "  <thead>\n",
       "    <tr style=\"text-align: right;\">\n",
       "      <th></th>\n",
       "      <th>tweet</th>\n",
       "      <th>user</th>\n",
       "      <th>location</th>\n",
       "      <th>date</th>\n",
       "    </tr>\n",
       "  </thead>\n",
       "  <tbody>\n",
       "    <tr>\n",
       "      <th>0</th>\n",
       "      <td>@x_ajdin773_x @yeahMFyeah @cta Because thereâ...</td>\n",
       "      <td>cta_oh</td>\n",
       "      <td>NaN</td>\n",
       "      <td>2019-11-08 15:30:41</td>\n",
       "    </tr>\n",
       "    <tr>\n",
       "      <th>1</th>\n",
       "      <td>@cta is the blue line at OâHare up and runni...</td>\n",
       "      <td>legordonblue15</td>\n",
       "      <td>NaN</td>\n",
       "      <td>2019-11-08 15:30:14</td>\n",
       "    </tr>\n",
       "    <tr>\n",
       "      <th>2</th>\n",
       "      <td>@cta @egoldberg10 SEEMS?!?!</td>\n",
       "      <td>cta_oh</td>\n",
       "      <td>NaN</td>\n",
       "      <td>2019-11-08 15:29:20</td>\n",
       "    </tr>\n",
       "    <tr>\n",
       "      <th>3</th>\n",
       "      <td>@thuggins @cta EARLY COMPLETION OF PLANNED WOR...</td>\n",
       "      <td>x_ajdin773_x</td>\n",
       "      <td>Chicago, IL</td>\n",
       "      <td>2019-11-08 15:28:37</td>\n",
       "    </tr>\n",
       "    <tr>\n",
       "      <th>4</th>\n",
       "      <td>@yeahMFyeah @cta Lmao!!!! Why did you just sta...</td>\n",
       "      <td>x_ajdin773_x</td>\n",
       "      <td>Chicago, IL</td>\n",
       "      <td>2019-11-08 15:27:09</td>\n",
       "    </tr>\n",
       "  </tbody>\n",
       "</table>\n",
       "</div>"
      ],
      "text/plain": [
       "                                               tweet            user  \\\n",
       "0  @x_ajdin773_x @yeahMFyeah @cta Because thereâ...          cta_oh   \n",
       "1  @cta is the blue line at OâHare up and runni...  legordonblue15   \n",
       "2                        @cta @egoldberg10 SEEMS?!?!          cta_oh   \n",
       "3  @thuggins @cta EARLY COMPLETION OF PLANNED WOR...    x_ajdin773_x   \n",
       "4  @yeahMFyeah @cta Lmao!!!! Why did you just sta...    x_ajdin773_x   \n",
       "\n",
       "      location                 date  \n",
       "0          NaN  2019-11-08 15:30:41  \n",
       "1          NaN  2019-11-08 15:30:14  \n",
       "2          NaN  2019-11-08 15:29:20  \n",
       "3  Chicago, IL  2019-11-08 15:28:37  \n",
       "4  Chicago, IL  2019-11-08 15:27:09  "
      ]
     },
     "execution_count": 3,
     "metadata": {},
     "output_type": "execute_result"
    }
   ],
   "source": [
    "# Load in the dataframe\n",
    "cta_df = pd.read_csv('../Resources/ctatweets_10-30-19_to_11-08-19.csv.csv',  encoding = 'ISO-8859-1')\n",
    "cta_df.head()"
   ]
  },
  {
   "cell_type": "code",
   "execution_count": 4,
   "metadata": {},
   "outputs": [
    {
     "data": {
      "text/plain": [
       "array(['@x_ajdin773_x @yeahMFyeah @cta Because thereâ\\x80\\x99s the risk of the daily â\\x80\\x9cdoor problem at Jarvisâ\\x80\\x9d issue, leaving the doâ\\x80¦ https://t.co/ysDVPo4s9a',\n",
       "       '@cta is the blue line at Oâ\\x80\\x99Hare up and running again? Or are there shuttles still taking passengers to Rosemont stop? #thanks',\n",
       "       '@cta @egoldberg10 SEEMS?!?!', ...,\n",
       "       'RT @BlainPlanes: @cta @VentraChicago Paris First Class International Blue Line Train to Downtown and Forest Park.',\n",
       "       \"RT @cta: @BlainPlanes @VentraChicago Little did you know, we're an international sensation!\",\n",
       "       '@cta wrong eyesð\\x9f\\x91\\x84'], dtype=object)"
      ]
     },
     "execution_count": 4,
     "metadata": {},
     "output_type": "execute_result"
    }
   ],
   "source": [
    "#get the tweets column\n",
    "tweets = cta_df.iloc[:, 0].values\n",
    "tweets"
   ]
  },
  {
   "cell_type": "code",
   "execution_count": 5,
   "metadata": {},
   "outputs": [],
   "source": [
    "# make sure all tweets are in lowercase and remove hashtags, mentions, and links.\n",
    "clean_data = []                 \n",
    "for tweet in tweets:\n",
    "        item = ' '.join(word.lower() for word in tweet.split() \\\n",
    "            if not word.startswith('#') and \\\n",
    "            not word.startswith('@') and \\\n",
    "            not word.startswith('http') and \\\n",
    "            not word.startswith('RT'))\n",
    "        \n",
    "        if item == \"\" or item == \"RT\":\n",
    "                continue\n",
    "        clean_data.append(item)"
   ]
  },
  {
   "cell_type": "code",
   "execution_count": 6,
   "metadata": {},
   "outputs": [
    {
     "data": {
      "text/plain": [
       "['because theres the risk of the daily door problem at jarvis issue leaving the do',\n",
       " 'is the blue line at ohare up and running again or are there shuttles still taking passengers to rosemont stop',\n",
       " 'seems',\n",
       " 'early completion of planned work which means bus drivers didnt know it finished early',\n",
       " 'lmao why did you just stand there you couldve took the red line if one purple line didnt sh',\n",
       " 'its nice to know that 2 of my favorite tribune writers are nice people too',\n",
       " 'i cannot with you',\n",
       " 'on the red line',\n",
       " 'boy if you dont connect yo ass to a vpn',\n",
       " 'major delays 95thbound red line trains are running with delays from congestion after earlier police activity at jarvis crews w']"
      ]
     },
     "execution_count": 6,
     "metadata": {},
     "output_type": "execute_result"
    }
   ],
   "source": [
    "# https://www.earthdatascience.org/courses/earth-analytics-python/using-apis-natural-language-processing-twitter/calculate-tweet-word-frequencies-in-python/\n",
    "# used code from link above to remove all special characters \n",
    "def remove_url(txt):\n",
    "    return \" \".join(re.sub(\"([^0-9A-Za-z \\t])|(\\w+:\\/\\/\\S+)\", \"\", txt).split())\n",
    "\n",
    "cleaned_data_no_urls = [remove_url(tweet) for tweet in clean_data]\n",
    "cleaned_data_no_urls[:10]"
   ]
  },
  {
   "cell_type": "markdown",
   "metadata": {},
   "source": [
    "## Predictor\n",
    "* Load the SVM model and use it to predict the tweet sentiment \n",
    "* visualize the data"
   ]
  },
  {
   "cell_type": "code",
   "execution_count": 7,
   "metadata": {},
   "outputs": [],
   "source": [
    "#predict sentiment\n",
    "predictions = predictor.predict(cleaned_data_no_urls)"
   ]
  },
  {
   "cell_type": "code",
   "execution_count": 13,
   "metadata": {},
   "outputs": [
    {
     "data": {
      "text/html": [
       "<div>\n",
       "<style scoped>\n",
       "    .dataframe tbody tr th:only-of-type {\n",
       "        vertical-align: middle;\n",
       "    }\n",
       "\n",
       "    .dataframe tbody tr th {\n",
       "        vertical-align: top;\n",
       "    }\n",
       "\n",
       "    .dataframe thead th {\n",
       "        text-align: right;\n",
       "    }\n",
       "</style>\n",
       "<table border=\"1\" class=\"dataframe\">\n",
       "  <thead>\n",
       "    <tr style=\"text-align: right;\">\n",
       "      <th></th>\n",
       "      <th>Tweets</th>\n",
       "      <th>Sentiment</th>\n",
       "    </tr>\n",
       "  </thead>\n",
       "  <tbody>\n",
       "    <tr>\n",
       "      <th>0</th>\n",
       "      <td>because theres the risk of the daily door prob...</td>\n",
       "      <td>0</td>\n",
       "    </tr>\n",
       "    <tr>\n",
       "      <th>1</th>\n",
       "      <td>is the blue line at ohare up and running again...</td>\n",
       "      <td>0</td>\n",
       "    </tr>\n",
       "    <tr>\n",
       "      <th>2</th>\n",
       "      <td>seems</td>\n",
       "      <td>0</td>\n",
       "    </tr>\n",
       "    <tr>\n",
       "      <th>3</th>\n",
       "      <td>early completion of planned work which means b...</td>\n",
       "      <td>0</td>\n",
       "    </tr>\n",
       "    <tr>\n",
       "      <th>4</th>\n",
       "      <td>lmao why did you just stand there you couldve ...</td>\n",
       "      <td>0</td>\n",
       "    </tr>\n",
       "  </tbody>\n",
       "</table>\n",
       "</div>"
      ],
      "text/plain": [
       "                                              Tweets  Sentiment\n",
       "0  because theres the risk of the daily door prob...          0\n",
       "1  is the blue line at ohare up and running again...          0\n",
       "2                                              seems          0\n",
       "3  early completion of planned work which means b...          0\n",
       "4  lmao why did you just stand there you couldve ...          0"
      ]
     },
     "execution_count": 13,
     "metadata": {},
     "output_type": "execute_result"
    }
   ],
   "source": [
    "#combine tweets with predictions\n",
    "results_tuple = list(zip(cleaned_data_no_urls, predictions))\n",
    "#turn into dataframe\n",
    "results_df =pd.DataFrame(results_tuple, columns = ['Tweets', 'Sentiment']) \n",
    "results_df.head()"
   ]
  },
  {
   "cell_type": "code",
   "execution_count": 14,
   "metadata": {},
   "outputs": [
    {
     "data": {
      "text/html": [
       "<div>\n",
       "<style scoped>\n",
       "    .dataframe tbody tr th:only-of-type {\n",
       "        vertical-align: middle;\n",
       "    }\n",
       "\n",
       "    .dataframe tbody tr th {\n",
       "        vertical-align: top;\n",
       "    }\n",
       "\n",
       "    .dataframe thead th {\n",
       "        text-align: right;\n",
       "    }\n",
       "</style>\n",
       "<table border=\"1\" class=\"dataframe\">\n",
       "  <thead>\n",
       "    <tr style=\"text-align: right;\">\n",
       "      <th></th>\n",
       "      <th>Tweets</th>\n",
       "      <th>Sentiment</th>\n",
       "    </tr>\n",
       "  </thead>\n",
       "  <tbody>\n",
       "    <tr>\n",
       "      <th>0</th>\n",
       "      <td>because theres the risk of the daily door problem at jarvis issue leaving the do</td>\n",
       "      <td>Negative</td>\n",
       "    </tr>\n",
       "    <tr>\n",
       "      <th>1</th>\n",
       "      <td>is the blue line at ohare up and running again or are there shuttles still taking passengers to rosemont stop</td>\n",
       "      <td>Negative</td>\n",
       "    </tr>\n",
       "    <tr>\n",
       "      <th>2</th>\n",
       "      <td>seems</td>\n",
       "      <td>Negative</td>\n",
       "    </tr>\n",
       "    <tr>\n",
       "      <th>3</th>\n",
       "      <td>early completion of planned work which means bus drivers didnt know it finished early</td>\n",
       "      <td>Negative</td>\n",
       "    </tr>\n",
       "    <tr>\n",
       "      <th>4</th>\n",
       "      <td>lmao why did you just stand there you couldve took the red line if one purple line didnt sh</td>\n",
       "      <td>Negative</td>\n",
       "    </tr>\n",
       "    <tr>\n",
       "      <th>5</th>\n",
       "      <td>its nice to know that 2 of my favorite tribune writers are nice people too</td>\n",
       "      <td>Positive</td>\n",
       "    </tr>\n",
       "    <tr>\n",
       "      <th>6</th>\n",
       "      <td>i cannot with you</td>\n",
       "      <td>Negative</td>\n",
       "    </tr>\n",
       "    <tr>\n",
       "      <th>7</th>\n",
       "      <td>on the red line</td>\n",
       "      <td>Neutral</td>\n",
       "    </tr>\n",
       "    <tr>\n",
       "      <th>8</th>\n",
       "      <td>boy if you dont connect yo ass to a vpn</td>\n",
       "      <td>Negative</td>\n",
       "    </tr>\n",
       "    <tr>\n",
       "      <th>9</th>\n",
       "      <td>major delays 95thbound red line trains are running with delays from congestion after earlier police activity at jarvis crews w</td>\n",
       "      <td>Negative</td>\n",
       "    </tr>\n",
       "    <tr>\n",
       "      <th>10</th>\n",
       "      <td>significant delays 95thbound red line trains are standing at belmont due to a police activity crews working to restore servi</td>\n",
       "      <td>Negative</td>\n",
       "    </tr>\n",
       "    <tr>\n",
       "      <th>11</th>\n",
       "      <td>major delays 95thbound red line trains are running with delays from congestion after earlier police activity at jarvis crews w</td>\n",
       "      <td>Negative</td>\n",
       "    </tr>\n",
       "    <tr>\n",
       "      <th>12</th>\n",
       "      <td>you replied to the wrong tweet i was there 814 am and no purple line showed up please review you data and</td>\n",
       "      <td>Negative</td>\n",
       "    </tr>\n",
       "    <tr>\n",
       "      <th>13</th>\n",
       "      <td>significant delays 95thbound red line trains are standing at belmont due to a police activity crews working to restore servi</td>\n",
       "      <td>Negative</td>\n",
       "    </tr>\n",
       "    <tr>\n",
       "      <th>14</th>\n",
       "      <td>im at bryn mawr in chicago il</td>\n",
       "      <td>Neutral</td>\n",
       "    </tr>\n",
       "    <tr>\n",
       "      <th>15</th>\n",
       "      <td>honestly two consecutive morning commutes without any issues would be nice cant imagine it ever happening though</td>\n",
       "      <td>Negative</td>\n",
       "    </tr>\n",
       "    <tr>\n",
       "      <th>16</th>\n",
       "      <td>this doesnt seem to be a recurring problem this is a recurring problem stop trying to justif</td>\n",
       "      <td>Negative</td>\n",
       "    </tr>\n",
       "    <tr>\n",
       "      <th>17</th>\n",
       "      <td>my challenge to the cta get me to work and home every day for a 5 day work week without a delay</td>\n",
       "      <td>Negative</td>\n",
       "    </tr>\n",
       "    <tr>\n",
       "      <th>18</th>\n",
       "      <td>significant delays 95thbound red line trains are standing at belmont due to a police activity crews working to restore servi</td>\n",
       "      <td>Negative</td>\n",
       "    </tr>\n",
       "    <tr>\n",
       "      <th>19</th>\n",
       "      <td>an onduty bus driver was stomped and robbed yesterday about 650 pm near 55drexel verbal altercation that turn</td>\n",
       "      <td>Negative</td>\n",
       "    </tr>\n",
       "  </tbody>\n",
       "</table>\n",
       "</div>"
      ],
      "text/plain": [
       "                                                                                                                            Tweets  \\\n",
       "0   because theres the risk of the daily door problem at jarvis issue leaving the do                                                 \n",
       "1   is the blue line at ohare up and running again or are there shuttles still taking passengers to rosemont stop                    \n",
       "2   seems                                                                                                                            \n",
       "3   early completion of planned work which means bus drivers didnt know it finished early                                            \n",
       "4   lmao why did you just stand there you couldve took the red line if one purple line didnt sh                                      \n",
       "5   its nice to know that 2 of my favorite tribune writers are nice people too                                                       \n",
       "6   i cannot with you                                                                                                                \n",
       "7   on the red line                                                                                                                  \n",
       "8   boy if you dont connect yo ass to a vpn                                                                                          \n",
       "9   major delays 95thbound red line trains are running with delays from congestion after earlier police activity at jarvis crews w   \n",
       "10  significant delays 95thbound red line trains are standing at belmont due to a police activity crews working to restore servi     \n",
       "11  major delays 95thbound red line trains are running with delays from congestion after earlier police activity at jarvis crews w   \n",
       "12  you replied to the wrong tweet i was there 814 am and no purple line showed up please review you data and                        \n",
       "13  significant delays 95thbound red line trains are standing at belmont due to a police activity crews working to restore servi     \n",
       "14  im at bryn mawr in chicago il                                                                                                    \n",
       "15  honestly two consecutive morning commutes without any issues would be nice cant imagine it ever happening though                 \n",
       "16  this doesnt seem to be a recurring problem this is a recurring problem stop trying to justif                                     \n",
       "17  my challenge to the cta get me to work and home every day for a 5 day work week without a delay                                  \n",
       "18  significant delays 95thbound red line trains are standing at belmont due to a police activity crews working to restore servi     \n",
       "19  an onduty bus driver was stomped and robbed yesterday about 650 pm near 55drexel verbal altercation that turn                    \n",
       "\n",
       "   Sentiment  \n",
       "0   Negative  \n",
       "1   Negative  \n",
       "2   Negative  \n",
       "3   Negative  \n",
       "4   Negative  \n",
       "5   Positive  \n",
       "6   Negative  \n",
       "7   Neutral   \n",
       "8   Negative  \n",
       "9   Negative  \n",
       "10  Negative  \n",
       "11  Negative  \n",
       "12  Negative  \n",
       "13  Negative  \n",
       "14  Neutral   \n",
       "15  Negative  \n",
       "16  Negative  \n",
       "17  Negative  \n",
       "18  Negative  \n",
       "19  Negative  "
      ]
     },
     "execution_count": 14,
     "metadata": {},
     "output_type": "execute_result"
    }
   ],
   "source": [
    "#replace numbers is labels\n",
    "labels = {1:'Neutral',2:'Positive',0:'Negative'}\n",
    "results_df[\"Sentiment\"] = results_df[\"Sentiment\"].replace(labels)\n",
    "pd.set_option('display.max_colwidth', -1)\n",
    "results_df.head(20)"
   ]
  },
  {
   "cell_type": "code",
   "execution_count": 15,
   "metadata": {},
   "outputs": [
    {
     "data": {
      "text/html": [
       "<div>\n",
       "<style scoped>\n",
       "    .dataframe tbody tr th:only-of-type {\n",
       "        vertical-align: middle;\n",
       "    }\n",
       "\n",
       "    .dataframe tbody tr th {\n",
       "        vertical-align: top;\n",
       "    }\n",
       "\n",
       "    .dataframe thead th {\n",
       "        text-align: right;\n",
       "    }\n",
       "</style>\n",
       "<table border=\"1\" class=\"dataframe\">\n",
       "  <thead>\n",
       "    <tr style=\"text-align: right;\">\n",
       "      <th></th>\n",
       "      <th>Sentiment</th>\n",
       "      <th>Tweets</th>\n",
       "    </tr>\n",
       "  </thead>\n",
       "  <tbody>\n",
       "    <tr>\n",
       "      <th>0</th>\n",
       "      <td>Negative</td>\n",
       "      <td>2431</td>\n",
       "    </tr>\n",
       "    <tr>\n",
       "      <th>1</th>\n",
       "      <td>Neutral</td>\n",
       "      <td>422</td>\n",
       "    </tr>\n",
       "    <tr>\n",
       "      <th>2</th>\n",
       "      <td>Positive</td>\n",
       "      <td>154</td>\n",
       "    </tr>\n",
       "  </tbody>\n",
       "</table>\n",
       "</div>"
      ],
      "text/plain": [
       "  Sentiment  Tweets\n",
       "0  Negative  2431  \n",
       "1  Neutral   422   \n",
       "2  Positive  154   "
      ]
     },
     "execution_count": 15,
     "metadata": {},
     "output_type": "execute_result"
    }
   ],
   "source": [
    "#get total count by sentiment\n",
    "total_types = results_df.groupby(\"Sentiment\").count()\n",
    "total_types\n",
    "#reindex\n",
    "total_types_reindex = total_types.reset_index()\n",
    "total_types_reindex"
   ]
  },
  {
   "cell_type": "code",
   "execution_count": 16,
   "metadata": {},
   "outputs": [
    {
     "data": {
      "image/png": "[encoded data removed]",
      "text/plain": [
       "<Figure size 432x288 with 1 Axes>"
      ]
     },
     "metadata": {
      "needs_background": "light"
     },
     "output_type": "display_data"
    }
   ],
   "source": [
    "import matplotlib.pyplot as plt\n",
    "%matplotlib inline\n",
    "#plot sentiment\n",
    "total_types_reindex.plot(kind='bar',x='Sentiment',y='Tweets')\n",
    "#save image\n",
    "plt.tight_layout()\n",
    "plt.savefig('../Images/Total_Tweets.png')"
   ]
  },
  {
   "cell_type": "code",
   "execution_count": 17,
   "metadata": {},
   "outputs": [],
   "source": [
    "# Labels for the sections of our pie chart\n",
    "labels = [\"Positive\", \"Negative\", \"Neutral\"]\n",
    "\n",
    "# The values of each section of the pie chart\n",
    "sizes = [98, 1761, 339]\n",
    "\n",
    "# The colors of each section of the pie chart\n",
    "colors = [\"yellowgreen\", \"red\", \"yellow\"]"
   ]
  },
  {
   "cell_type": "code",
   "execution_count": 18,
   "metadata": {},
   "outputs": [
    {
     "data": {
      "image/png": "[encoded data removed]",
      "text/plain": [
       "<Figure size 720x720 with 1 Axes>"
      ]
     },
     "metadata": {},
     "output_type": "display_data"
    }
   ],
   "source": [
    "# Creates the pie chart based upon the values above\n",
    "# Automatically finds the percentages of each part of the pie chart\n",
    "plt.pie(sizes, \n",
    "         autopct=\"%1.1f%%\", shadow=True, labels=labels, colors=colors, startangle=90, textprops={'fontsize': 16})\n",
    "fig = plt.gcf()\n",
    "fig.set_size_inches(10,10) \n",
    "\n",
    "plt.savefig(\"../Images/Pie.png\")"
   ]
  },
  {
   "cell_type": "markdown",
   "metadata": {},
   "source": [
    "## Visualize Tweets by Date"
   ]
  },
  {
   "cell_type": "code",
   "execution_count": 19,
   "metadata": {
    "scrolled": true
   },
   "outputs": [
    {
     "data": {
      "text/html": [
       "<div>\n",
       "<style scoped>\n",
       "    .dataframe tbody tr th:only-of-type {\n",
       "        vertical-align: middle;\n",
       "    }\n",
       "\n",
       "    .dataframe tbody tr th {\n",
       "        vertical-align: top;\n",
       "    }\n",
       "\n",
       "    .dataframe thead th {\n",
       "        text-align: right;\n",
       "    }\n",
       "</style>\n",
       "<table border=\"1\" class=\"dataframe\">\n",
       "  <thead>\n",
       "    <tr style=\"text-align: right;\">\n",
       "      <th></th>\n",
       "      <th>tweet</th>\n",
       "      <th>user</th>\n",
       "      <th>location</th>\n",
       "      <th>date</th>\n",
       "    </tr>\n",
       "  </thead>\n",
       "  <tbody>\n",
       "    <tr>\n",
       "      <th>0</th>\n",
       "      <td>@x_ajdin773_x @yeahMFyeah @cta Because thereâs the risk of the daily âdoor problem at Jarvisâ issue, leaving the doâ¦ https://t.co/ysDVPo4s9a</td>\n",
       "      <td>cta_oh</td>\n",
       "      <td>NaN</td>\n",
       "      <td>2019-11-08</td>\n",
       "    </tr>\n",
       "    <tr>\n",
       "      <th>1</th>\n",
       "      <td>@cta is the blue line at OâHare up and running again? Or are there shuttles still taking passengers to Rosemont stop? #thanks</td>\n",
       "      <td>legordonblue15</td>\n",
       "      <td>NaN</td>\n",
       "      <td>2019-11-08</td>\n",
       "    </tr>\n",
       "    <tr>\n",
       "      <th>2</th>\n",
       "      <td>@cta @egoldberg10 SEEMS?!?!</td>\n",
       "      <td>cta_oh</td>\n",
       "      <td>NaN</td>\n",
       "      <td>2019-11-08</td>\n",
       "    </tr>\n",
       "    <tr>\n",
       "      <th>3</th>\n",
       "      <td>@thuggins @cta EARLY COMPLETION OF PLANNED WORK which means bus drivers didnât know it finished early</td>\n",
       "      <td>x_ajdin773_x</td>\n",
       "      <td>Chicago, IL</td>\n",
       "      <td>2019-11-08</td>\n",
       "    </tr>\n",
       "    <tr>\n",
       "      <th>4</th>\n",
       "      <td>@yeahMFyeah @cta Lmao!!!! Why did you just stand there ð¤£you couldâve took the red line if one purple line didnât shâ¦ https://t.co/cesznowGZa</td>\n",
       "      <td>x_ajdin773_x</td>\n",
       "      <td>Chicago, IL</td>\n",
       "      <td>2019-11-08</td>\n",
       "    </tr>\n",
       "  </tbody>\n",
       "</table>\n",
       "</div>"
      ],
      "text/plain": [
       "                                                                                                                                                   tweet  \\\n",
       "0  @x_ajdin773_x @yeahMFyeah @cta Because thereâs the risk of the daily âdoor problem at Jarvisâ issue, leaving the doâ¦ https://t.co/ysDVPo4s9a    \n",
       "1  @cta is the blue line at OâHare up and running again? Or are there shuttles still taking passengers to Rosemont stop? #thanks                         \n",
       "2  @cta @egoldberg10 SEEMS?!?!                                                                                                                             \n",
       "3  @thuggins @cta EARLY COMPLETION OF PLANNED WORK which means bus drivers didnât know it finished early                                                 \n",
       "4  @yeahMFyeah @cta Lmao!!!! Why did you just stand there ð¤£you couldâve took the red line if one purple line didnât shâ¦ https://t.co/cesznowGZa   \n",
       "\n",
       "             user     location        date  \n",
       "0  cta_oh          NaN          2019-11-08  \n",
       "1  legordonblue15  NaN          2019-11-08  \n",
       "2  cta_oh          NaN          2019-11-08  \n",
       "3  x_ajdin773_x    Chicago, IL  2019-11-08  \n",
       "4  x_ajdin773_x    Chicago, IL  2019-11-08  "
      ]
     },
     "execution_count": 19,
     "metadata": {},
     "output_type": "execute_result"
    }
   ],
   "source": [
    "cta_df['date'] = pd.to_datetime(cta_df['date']).dt.to_period('d')\n",
    "cta_df.head()"
   ]
  },
  {
   "cell_type": "code",
   "execution_count": 20,
   "metadata": {},
   "outputs": [
    {
     "data": {
      "text/html": [
       "<div>\n",
       "<style scoped>\n",
       "    .dataframe tbody tr th:only-of-type {\n",
       "        vertical-align: middle;\n",
       "    }\n",
       "\n",
       "    .dataframe tbody tr th {\n",
       "        vertical-align: top;\n",
       "    }\n",
       "\n",
       "    .dataframe thead th {\n",
       "        text-align: right;\n",
       "    }\n",
       "</style>\n",
       "<table border=\"1\" class=\"dataframe\">\n",
       "  <thead>\n",
       "    <tr style=\"text-align: right;\">\n",
       "      <th></th>\n",
       "      <th>tweet</th>\n",
       "      <th>user</th>\n",
       "      <th>location</th>\n",
       "    </tr>\n",
       "    <tr>\n",
       "      <th>date</th>\n",
       "      <th></th>\n",
       "      <th></th>\n",
       "      <th></th>\n",
       "    </tr>\n",
       "  </thead>\n",
       "  <tbody>\n",
       "    <tr>\n",
       "      <th>2019-10-30</th>\n",
       "      <td>253</td>\n",
       "      <td>253</td>\n",
       "      <td>159</td>\n",
       "    </tr>\n",
       "    <tr>\n",
       "      <th>2019-10-31</th>\n",
       "      <td>915</td>\n",
       "      <td>915</td>\n",
       "      <td>672</td>\n",
       "    </tr>\n",
       "    <tr>\n",
       "      <th>2019-11-01</th>\n",
       "      <td>474</td>\n",
       "      <td>474</td>\n",
       "      <td>344</td>\n",
       "    </tr>\n",
       "    <tr>\n",
       "      <th>2019-11-02</th>\n",
       "      <td>146</td>\n",
       "      <td>146</td>\n",
       "      <td>98</td>\n",
       "    </tr>\n",
       "    <tr>\n",
       "      <th>2019-11-03</th>\n",
       "      <td>110</td>\n",
       "      <td>110</td>\n",
       "      <td>76</td>\n",
       "    </tr>\n",
       "    <tr>\n",
       "      <th>2019-11-04</th>\n",
       "      <td>170</td>\n",
       "      <td>170</td>\n",
       "      <td>126</td>\n",
       "    </tr>\n",
       "    <tr>\n",
       "      <th>2019-11-05</th>\n",
       "      <td>147</td>\n",
       "      <td>147</td>\n",
       "      <td>106</td>\n",
       "    </tr>\n",
       "    <tr>\n",
       "      <th>2019-11-06</th>\n",
       "      <td>209</td>\n",
       "      <td>209</td>\n",
       "      <td>146</td>\n",
       "    </tr>\n",
       "    <tr>\n",
       "      <th>2019-11-07</th>\n",
       "      <td>413</td>\n",
       "      <td>413</td>\n",
       "      <td>310</td>\n",
       "    </tr>\n",
       "    <tr>\n",
       "      <th>2019-11-08</th>\n",
       "      <td>178</td>\n",
       "      <td>178</td>\n",
       "      <td>116</td>\n",
       "    </tr>\n",
       "  </tbody>\n",
       "</table>\n",
       "</div>"
      ],
      "text/plain": [
       "            tweet  user  location\n",
       "date                             \n",
       "2019-10-30  253    253   159     \n",
       "2019-10-31  915    915   672     \n",
       "2019-11-01  474    474   344     \n",
       "2019-11-02  146    146   98      \n",
       "2019-11-03  110    110   76      \n",
       "2019-11-04  170    170   126     \n",
       "2019-11-05  147    147   106     \n",
       "2019-11-06  209    209   146     \n",
       "2019-11-07  413    413   310     \n",
       "2019-11-08  178    178   116     "
      ]
     },
     "execution_count": 20,
     "metadata": {},
     "output_type": "execute_result"
    }
   ],
   "source": [
    "grouped_cta_df = cta_df.groupby(['date']).count()\n",
    "\n",
    "grouped_cta_df.head(20)"
   ]
  },
  {
   "cell_type": "code",
   "execution_count": 21,
   "metadata": {},
   "outputs": [
    {
     "data": {
      "text/html": [
       "<div>\n",
       "<style scoped>\n",
       "    .dataframe tbody tr th:only-of-type {\n",
       "        vertical-align: middle;\n",
       "    }\n",
       "\n",
       "    .dataframe tbody tr th {\n",
       "        vertical-align: top;\n",
       "    }\n",
       "\n",
       "    .dataframe thead th {\n",
       "        text-align: right;\n",
       "    }\n",
       "</style>\n",
       "<table border=\"1\" class=\"dataframe\">\n",
       "  <thead>\n",
       "    <tr style=\"text-align: right;\">\n",
       "      <th></th>\n",
       "      <th>tweet</th>\n",
       "    </tr>\n",
       "    <tr>\n",
       "      <th>date</th>\n",
       "      <th></th>\n",
       "    </tr>\n",
       "  </thead>\n",
       "  <tbody>\n",
       "    <tr>\n",
       "      <th>2019-10-30</th>\n",
       "      <td>253</td>\n",
       "    </tr>\n",
       "    <tr>\n",
       "      <th>2019-10-31</th>\n",
       "      <td>915</td>\n",
       "    </tr>\n",
       "    <tr>\n",
       "      <th>2019-11-01</th>\n",
       "      <td>474</td>\n",
       "    </tr>\n",
       "    <tr>\n",
       "      <th>2019-11-02</th>\n",
       "      <td>146</td>\n",
       "    </tr>\n",
       "    <tr>\n",
       "      <th>2019-11-03</th>\n",
       "      <td>110</td>\n",
       "    </tr>\n",
       "  </tbody>\n",
       "</table>\n",
       "</div>"
      ],
      "text/plain": [
       "            tweet\n",
       "date             \n",
       "2019-10-30  253  \n",
       "2019-10-31  915  \n",
       "2019-11-01  474  \n",
       "2019-11-02  146  \n",
       "2019-11-03  110  "
      ]
     },
     "execution_count": 21,
     "metadata": {},
     "output_type": "execute_result"
    }
   ],
   "source": [
    "# Filter the DataFrame down only to those columns to chart\n",
    "date_and_tweet = grouped_cta_df[[\"tweet\"]]\n",
    "\n",
    "# # Set the index to be \"date\" so they will be used as labels\n",
    "# date_and_tweet = date_and_tweet.set_index(\"date\")\n",
    "\n",
    "date_and_tweet.head()"
   ]
  },
  {
   "cell_type": "code",
   "execution_count": null,
   "metadata": {},
   "outputs": [],
   "source": []
  },
  {
   "cell_type": "code",
   "execution_count": 95,
   "metadata": {},
   "outputs": [
    {
     "data": {
      "image/png": "[encoded data removed]",
      "text/plain": [
       "<Figure size 720x432 with 1 Axes>"
      ]
     },
     "metadata": {
      "needs_background": "light"
     },
     "output_type": "display_data"
    }
   ],
   "source": [
    "# Use DataFrame.plot() in order to create a bar chart of the data\n",
    "date_and_tweet.plot(kind=\"bar\", color='#e27ea6', figsize=(10,6), alpha=0.5, align=\"center\")\n",
    "\n",
    "# Set a title for the chart\n",
    "plt.title(\"Number of Tweets per Day for last 10 Days\", fontsize = 15)\n",
    "plt.xlabel(\"Date\", fontsize = 12 )\n",
    "plt.ylabel(\"Number of Tweets\", fontsize = 12)\n",
    "plt.legend().set_visible(False)\n",
    "plt.tight_layout()\n",
    "\n",
    "\n",
    "\n",
    "# ax.yaxis.label.set_size(12)\n",
    "# plt.setp(ax.get_xticklabels(), rotation='vertical', fontsize=10)\n",
    "# plt.setp(ax.get_yticklabels(), rotation='horizontal', fontsize=12)\n",
    "plt.savefig(\"../Images/Tweets vs Date.png\")\n",
    "plt.show()"
   ]
  },
  {
   "cell_type": "markdown",
   "metadata": {},
   "source": [
    "## Visaulize the Most Common Words"
   ]
  },
  {
   "cell_type": "code",
   "execution_count": 35,
   "metadata": {},
   "outputs": [],
   "source": [
    "import matplotlib.pyplot as plt\n",
    "import collections\n",
    "from PIL import Image\n",
    "from wordcloud import STOPWORDS, ImageColorGenerator"
   ]
  },
  {
   "cell_type": "code",
   "execution_count": 44,
   "metadata": {},
   "outputs": [
    {
     "name": "stdout",
     "output_type": "stream",
     "text": [
      "There are 254085 words total in all captured tweets.\n",
      "['because', 'theres', 'the', 'risk', 'of']\n"
     ]
    }
   ],
   "source": [
    "# sum the number of words in all tweets, place in a variable \n",
    "text = \" \".join(tweet for tweet in cleaned_data_no_urls)\n",
    "print (\"There are {} words total in all captured tweets.\".format(len(text)))\n",
    "\n",
    "# create a list of all words\n",
    "text_list = text.split()\n",
    "print(text_list[0:5])"
   ]
  },
  {
   "cell_type": "code",
   "execution_count": 55,
   "metadata": {},
   "outputs": [],
   "source": [
    "stopwords = set(STOPWORDS)\n",
    "stopwords.update([\"cta\", \"line\", \"http\", \"https\", \"co\", \"significant\", \"train\", \"residual\", \n",
    "                  \"RT\", \"following\", \"running\", \"chicago\", \"now\",\"trains\", \"blue\", \"red\",\"brown\", \n",
    "                  \"purple\",\"orange\", \"pink\", \"green\", \"yellow\", \"near\", \"forest\", \"rails\", \"park\", \n",
    "                  \"bound\", \"citizens\", \"amp\"])\n"
   ]
  },
  {
   "cell_type": "code",
   "execution_count": 56,
   "metadata": {},
   "outputs": [],
   "source": [
    "# Remove stop words from each tweet list of words\n",
    "tweets_no_stop_words = [word for word in text_list if not word in stopwords]"
   ]
  },
  {
   "cell_type": "code",
   "execution_count": 58,
   "metadata": {},
   "outputs": [
    {
     "data": {
      "text/plain": [
       "[('delays', 911),\n",
       " ('due', 338),\n",
       " ('service', 328),\n",
       " ('standing', 278),\n",
       " ('working', 252),\n",
       " ('earlier', 248),\n",
       " ('crews', 240),\n",
       " ('wresidual', 213),\n",
       " ('major', 161),\n",
       " ('restore', 157),\n",
       " ('minor', 147),\n",
       " ('police', 135),\n",
       " ('tracks', 133),\n",
       " ('people', 131),\n",
       " ('activity', 125)]"
      ]
     },
     "execution_count": 58,
     "metadata": {},
     "output_type": "execute_result"
    }
   ],
   "source": [
    "# count the 15 most common words\n",
    "counts_tweets = collections.Counter(tweets_no_stop_words)\n",
    "counts_tweets.most_common(15)"
   ]
  },
  {
   "cell_type": "code",
   "execution_count": 94,
   "metadata": {},
   "outputs": [
    {
     "data": {
      "image/png": "[encoded data removed]",
      "text/plain": [
       "<Figure size 576x576 with 1 Axes>"
      ]
     },
     "metadata": {
      "needs_background": "light"
     },
     "output_type": "display_data"
    }
   ],
   "source": [
    "# create DataFrame of the most common words\n",
    "tweets_common_words = pd.DataFrame(counts_tweets.most_common(10),\n",
    "                             columns=['words', 'count'])\n",
    "\n",
    "\n",
    "# Plot horizontal bar graph\n",
    "fig, ax = plt.subplots(figsize=(8, 8))\n",
    "tweets_common_words.sort_values(by='count').plot.barh(x='words',\n",
    "                      y='count',\n",
    "                      ax=ax,\n",
    "                      color=\"#522398\")\n",
    "ax.set_title(\"Common Words Found in Tweets\", fontsize=15)\n",
    "ax.yaxis.label.set_size(12)\n",
    "plt.setp(ax.get_xticklabels(), rotation='vertical', fontsize=10)\n",
    "plt.setp(ax.get_yticklabels(), rotation='horizontal', fontsize=12)\n",
    "plt.legend().set_visible(False)\n",
    "\n",
    "\n",
    "# show and save the barchart\n",
    "plt.savefig(\"../Images/Common_Words.png\")\n",
    "plt.show()"
   ]
  },
  {
   "cell_type": "code",
   "execution_count": null,
   "metadata": {},
   "outputs": [],
   "source": []
  }
 ],
 "metadata": {
  "kernelspec": {
   "display_name": "Python 3",
   "language": "python",
   "name": "python3"
  },
  "language_info": {
   "codemirror_mode": {
    "name": "ipython",
    "version": 3
   },
   "file_extension": ".py",
   "mimetype": "text/x-python",
   "name": "python",
   "nbconvert_exporter": "python",
   "pygments_lexer": "ipython3",
   "version": "3.7.3"
  }
 },
 "nbformat": 4,
 "nbformat_minor": 2
}
